{
 "cells": [
  {
   "cell_type": "code",
   "execution_count": 1,
   "id": "5ce8059d-c064-4c3d-9368-65bc60e350e1",
   "metadata": {},
   "outputs": [],
   "source": [
    "import os\n",
    "import gc\n",
    "import sys\n",
    "import glob\n",
    "import numpy as np\n",
    "import pandas as pd\n",
    "import netCDF4 as nc\n",
    "from datetime import datetime, timedelta\n",
    "from matplotlib.cm import get_cmap\n",
    "import matplotlib.pyplot as plt\n",
    "from matplotlib import cm\n",
    "from matplotlib import colors\n",
    "import matplotlib.ticker as mticker"
   ]
  },
  {
   "cell_type": "code",
   "execution_count": 2,
   "id": "d166f526-96bd-4bfe-9366-d74223ce3087",
   "metadata": {},
   "outputs": [],
   "source": [
    "# To use PLUMBER2_GPP_common_utils, change directory to where it exists\n",
    "os.chdir('/g/data/w97/mm3972/scripts/PLUMBER2/LSM_GPP_PLUMBER2')\n",
    "from PLUMBER2_GPP_common_utils import *"
   ]
  },
  {
   "cell_type": "code",
   "execution_count": 3,
   "id": "93328556-0b8b-409f-80d8-fbbf832e28a0",
   "metadata": {},
   "outputs": [],
   "source": [
    "# Path of PLUMBER 2 dataset\n",
    "PLUMBER2_path      = \"/g/data/w97/mm3972/data/PLUMBER2/\"\n",
    "PLUMBER2_flux_path = \"/g/data/w97/mm3972/data/Fluxnet_data/Post-processed_PLUMBER2_outputs/Nc_files/Flux/\"\n",
    "PLUMBER2_met_path  = \"/g/data/w97/mm3972/data/Fluxnet_data/Post-processed_PLUMBER2_outputs/Nc_files/Met/\"\n",
    "site_names, IGBP_types, clim_types, model_names = load_default_list()"
   ]
  },
  {
   "cell_type": "markdown",
   "id": "7895b984-99b7-4f67-ad7a-e062d11f60e7",
   "metadata": {
    "tags": []
   },
   "source": [
    "### Plot diurnal cycle for each site"
   ]
  },
  {
   "cell_type": "code",
   "execution_count": 5,
   "id": "00dfb6e9-da6c-45e0-8f89-f7d7cd1d1015",
   "metadata": {},
   "outputs": [],
   "source": [
    "model_colors = set_model_colors()"
   ]
  },
  {
   "cell_type": "markdown",
   "id": "73113206-5e94-4ba3-bded-97560c3c596b",
   "metadata": {},
   "source": [
    "#### Get model list"
   ]
  },
  {
   "cell_type": "code",
   "execution_count": 6,
   "id": "ca9182db-7312-4802-8de2-9f03cc047f2e",
   "metadata": {},
   "outputs": [],
   "source": [
    "PLUMBER2_path_site = \"/g/data/w97/mm3972/scripts/PLUMBER2/LSM_GPP_PLUMBER2/nc_files/AR-SLu.nc\"\n",
    "f                  = nc.Dataset(PLUMBER2_path_site, mode='r')\n",
    "model_list         = f.variables['NEE_models'][:]\n",
    "model_list         = model_list.tolist()\n",
    "model_list.append('obs')"
   ]
  },
  {
   "cell_type": "code",
   "execution_count": null,
   "id": "995e4753-99c9-4b99-910e-b4bf765b0721",
   "metadata": {},
   "outputs": [],
   "source": [
    "model_list"
   ]
  },
  {
   "cell_type": "code",
   "execution_count": 7,
   "id": "721ca29c-e6fa-426e-aa23-37395fbf07eb",
   "metadata": {},
   "outputs": [],
   "source": [
    "site_name        = 'AU-Tum'\n",
    "PLUMBER2_path    = \"/g/data/w97/mm3972/scripts/PLUMBER2/LSM_GPP_PLUMBER2/txt/process1_NEE_all_sites.csv\"\n",
    "PLUMBER2_qc_path = \"/g/data/w97/mm3972/scripts/PLUMBER2/LSM_GPP_PLUMBER2/txt/NEE_quality_control_all_sites.csv\"\n",
    "\n",
    "var_output       = pd.read_csv(PLUMBER2_path)\n",
    "qc_output        = pd.read_csv(PLUMBER2_qc_path)\n",
    "var_output       = var_output[~np.isnan(qc_output['NEE_qc'])] "
   ]
  },
  {
   "cell_type": "code",
   "execution_count": 15,
   "id": "6e48f1cc-6613-4fc3-93a5-ba0256c4b421",
   "metadata": {},
   "outputs": [
    {
     "name": "stdout",
     "output_type": "stream",
     "text": [
      "0\n"
     ]
    }
   ],
   "source": [
    "for site_name in site_names:\n",
    "    var_masked    = var_output[var_output['site_name'][:] == site_name]\n",
    "    print(np.sum(var_output['model_QUINCY'] < -999))\n",
    "    \n",
    "    fig, ax       = plt.subplots(figsize=[10, 7])\n",
    "\n",
    "    for model_in in model_list:\n",
    "\n",
    "        var_name          = get_header(model_in)+model_in\n",
    "        var_diurnal_cycle = var_masked.groupby(['hour']).mean(numeric_only=True)\n",
    "        if model_in == 'NoahMPv401' or model_in == 'GFDL' or model_in == 'STEMMUS-SCOPE':\n",
    "            sct               = ax.plot(var_diurnal_cycle[var_name], lw=2.0, color=model_colors[model_in], alpha=0.9, label=model_in)\n",
    "        else:\n",
    "            sct               = ax.plot(var_diurnal_cycle[var_name]*(-1), lw=2.0, color=model_colors[model_in], alpha=0.9, label=model_in)\n",
    "\n",
    "    # ax.set_ylabel(\"Gross Primary Production (g C m$\\mathregular{^{-1}}$ h$\\mathregular{^{-1}}$)\", fontsize=12)\n",
    "    ax.set_ylabel(\"Net ecosystem exchange of CO2 (g C m$\\mathregular{^{-1}}$ h$\\mathregular{^{-1}}$)\", fontsize=12)\n",
    "\n",
    "    ax.legend(fontsize=8,frameon=False)\n",
    "\n",
    "    fig.savefig(\"./plots/diurnal_cycle_NEE_\"+site_name,bbox_inches='tight',dpi=300)"
   ]
  },
  {
   "cell_type": "code",
   "execution_count": 13,
   "id": "5ff3a8b6-f317-4e04-991a-d0ad0428cd81",
   "metadata": {},
   "outputs": [
    {
     "data": {
      "text/plain": [
       "0"
      ]
     },
     "execution_count": 13,
     "metadata": {},
     "output_type": "execute_result"
    }
   ],
   "source": [
    "\n"
   ]
  },
  {
   "cell_type": "code",
   "execution_count": null,
   "id": "050533c6-b9c1-444b-a0f2-41ecfd797cf0",
   "metadata": {},
   "outputs": [],
   "source": []
  },
  {
   "cell_type": "code",
   "execution_count": null,
   "id": "c68f616e-deba-450a-8558-588aa387d29a",
   "metadata": {},
   "outputs": [],
   "source": []
  }
 ],
 "metadata": {
  "kernelspec": {
   "display_name": "Python [conda env:analysis3-24.01]",
   "language": "python",
   "name": "conda-env-analysis3-24.01-py"
  },
  "language_info": {
   "codemirror_mode": {
    "name": "ipython",
    "version": 3
   },
   "file_extension": ".py",
   "mimetype": "text/x-python",
   "name": "python",
   "nbconvert_exporter": "python",
   "pygments_lexer": "ipython3",
   "version": "3.10.13"
  }
 },
 "nbformat": 4,
 "nbformat_minor": 5
}
